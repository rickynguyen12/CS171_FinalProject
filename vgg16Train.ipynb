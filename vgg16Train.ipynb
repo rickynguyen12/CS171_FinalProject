{
  "cells": [
    {
      "cell_type": "code",
      "execution_count": null,
      "metadata": {
        "id": "2TGp0CTnb6_n"
      },
      "outputs": [],
      "source": [
        "import os\n",
        "import cv2\n",
        "import numpy as np\n",
        "import pandas as pd\n",
        "\n",
        "from tensorflow.keras.preprocessing.image import ImageDataGenerator\n",
        "from tensorflow.keras.applications import VGG16\n",
        "from tensorflow.keras.models import Sequential\n",
        "from tensorflow.keras.layers import Dense, Flatten\n",
        "from tensorflow.keras.optimizers import Adam\n",
        "from tensorflow.keras.preprocessing.image import load_img\n",
        "from tensorflow.keras.preprocessing.image import img_to_array\n",
        "\n",
        "from PIL import Image"
      ]
    },
    {
      "cell_type": "code",
      "execution_count": null,
      "metadata": {
        "id": "soJrAAgLmEKU"
      },
      "outputs": [],
      "source": [
        "#upload files then unzip (colab use)\n",
        "!unzip TEST.zip\n",
        "!unzip TRAIN.zip"
      ]
    },
    {
      "cell_type": "code",
      "execution_count": null,
      "metadata": {
        "id": "Y-dRKhcYl4c4"
      },
      "outputs": [],
      "source": [
        "# Define dataset folders\n",
        "test_folder = 'TEST'\n",
        "train_folder = 'TRAIN'\n",
        "labels_file = 'labels.csv'\n",
        "\n",
        "# Load labels from CSV\n",
        "labels_df = pd.read_csv(labels_file)"
      ]
    },
    {
      "cell_type": "code",
      "execution_count": 19,
      "metadata": {
        "id": "SYWIaLYGs47s"
      },
      "outputs": [],
      "source": [
        "# Function to preprocess images\n",
        "def preprocess_images(folder_path, target_size):\n",
        "    images = []\n",
        "    for filename in os.listdir(folder_path):\n",
        "        if filename.endswith('.jpg') or filename.endswith('.jpeg'):\n",
        "            img_path = os.path.join(folder_path, filename)\n",
        "            img = load_img(img_path, target_size=target_size)\n",
        "            img_array = img_to_array(img)\n",
        "            images.append(img_array)\n",
        "    return np.array(images)"
      ]
    },
    {
      "cell_type": "code",
      "execution_count": 20,
      "metadata": {
        "id": "l-HlSlCvwtqV"
      },
      "outputs": [],
      "source": [
        "training_images = preprocess_images(train_folder, target_size=(200,200))\n",
        "\n",
        "testing_images = preprocess_images(test_folder, target_size=(200,200))"
      ]
    },
    {
      "cell_type": "code",
      "execution_count": 24,
      "metadata": {
        "colab": {
          "base_uri": "https://localhost:8080/"
        },
        "id": "sZJUWglmxDzA",
        "outputId": "8be21b46-4caf-4eb3-c486-f0133f80bc55"
      },
      "outputs": [
        {
          "name": "stdout",
          "output_type": "stream",
          "text": [
            "Found 7968 images belonging to 4 classes.\n",
            "Found 1989 images belonging to 4 classes.\n"
          ]
        }
      ],
      "source": [
        "# Data augmentation and preprocessing\n",
        "train_datagen = ImageDataGenerator(\n",
        "    rescale=1./255,\n",
        "    rotation_range=20,\n",
        "    width_shift_range=0.2,\n",
        "    height_shift_range=0.2,\n",
        "    shear_range=0.2,\n",
        "    zoom_range=0.2,\n",
        "    horizontal_flip=True,\n",
        "    validation_split=0.2\n",
        ")\n",
        "\n",
        "# Load and augment training data\n",
        "train_generator = train_datagen.flow_from_directory(\n",
        "    train_folder,\n",
        "    target_size=(200, 200),\n",
        "    batch_size=32,\n",
        "    class_mode='categorical',\n",
        "    subset='training'\n",
        ")\n",
        "\n",
        "# Load validation data\n",
        "validation_generator = train_datagen.flow_from_directory(\n",
        "    train_folder,\n",
        "    target_size=(200, 200),\n",
        "    batch_size=32,\n",
        "    class_mode='categorical',\n",
        "    subset='validation'\n",
        ")"
      ]
    },
    {
      "cell_type": "code",
      "execution_count": null,
      "metadata": {
        "colab": {
          "base_uri": "https://localhost:8080/"
        },
        "id": "goVTkRHMxOfp",
        "outputId": "d6d1a2be-96aa-415c-d23c-96e91e3679df"
      },
      "outputs": [
        {
          "name": "stdout",
          "output_type": "stream",
          "text": [
            "Epoch 1/5\n",
            "249/249 [==============================] - 4140s 17s/step - loss: 1.3727 - accuracy: 0.5016 - val_loss: 0.8959 - val_accuracy: 0.6381\n",
            "Epoch 2/5\n",
            "249/249 [==============================] - 4148s 17s/step - loss: 0.9046 - accuracy: 0.6258 - val_loss: 0.8010 - val_accuracy: 0.6683\n",
            "Epoch 3/5\n",
            "171/249 [===================>..........] - ETA: 17:06 - loss: 0.8134 - accuracy: 0.6721"
          ]
        }
      ],
      "source": [
        "# Load pre-trained VGG16 model\n",
        "vgg16 = VGG16(weights='imagenet', include_top=False, input_shape=(200, 200, 3))\n",
        "\n",
        "# Freeze convolutional layers\n",
        "for layer in vgg16.layers:\n",
        "    layer.trainable = False\n",
        "\n",
        "# Build model on top of VGG16\n",
        "model = Sequential([\n",
        "    vgg16,\n",
        "    Flatten(),\n",
        "    Dense(512, activation='relu'),\n",
        "    Dense(4, activation='softmax')\n",
        "])\n",
        "\n",
        "# Compile model\n",
        "model.compile(optimizer=Adam(), loss='categorical_crossentropy', metrics=['accuracy'])\n",
        "\n",
        "# Train model\n",
        "model.fit(\n",
        "    train_generator,\n",
        "    steps_per_epoch=train_generator.samples // train_generator.batch_size,\n",
        "    epochs=5,\n",
        "    validation_data=validation_generator,\n",
        "    validation_steps=validation_generator.samples // validation_generator.batch_size\n",
        ")\n",
        "\n",
        "# Evaluate model\n",
        "loss, accuracy = model.evaluate(validation_generator)\n",
        "print(f'Validation Loss: {loss}, Validation Accuracy: {accuracy}')"
      ]
    },
    {
      "cell_type": "code",
      "execution_count": null,
      "metadata": {
        "id": "cGOvBt8H5S4d"
      },
      "outputs": [],
      "source": [
        "testing_labels = labels_df['Category'].values  # Assuming 'Category' column contains labels\n",
        "\n",
        "# Evaluate model on testing data\n",
        "testing_generator = ImageDataGenerator(rescale=1./255).flow(testing_images, testing_labels, batch_size=32)\n",
        "loss, accuracy = model.evaluate(testing_generator)\n",
        "print(f'Testing Loss: {loss}, Testing Accuracy: {accuracy}')"
      ]
    }
  ],
  "metadata": {
    "colab": {
      "provenance": []
    },
    "kernelspec": {
      "display_name": "Python 3",
      "name": "python3"
    },
    "language_info": {
      "name": "python"
    }
  },
  "nbformat": 4,
  "nbformat_minor": 0
}
